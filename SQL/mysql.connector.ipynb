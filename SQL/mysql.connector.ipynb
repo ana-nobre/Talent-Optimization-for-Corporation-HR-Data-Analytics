{
 "cells": [
  {
   "cell_type": "markdown",
   "id": "bce9f78a",
   "metadata": {},
   "source": [
    "## Database Structure Design\n",
    "\n"
   ]
  },
  {
   "cell_type": "markdown",
   "id": "4e082ccb",
   "metadata": {},
   "source": [
    "| Relationship                          | Type  | Explanation                                                                 |\n",
    "| ------------------------------------- | ----- | --------------------------------------------------------------------------- |\n",
    "| `employee` → `employee_demographics`  | **1:1** | Each employee has a single row with their demographic information           |\n",
    "| `employee` → `employee_professional`  | **1:1** | Each employee has a single registered professional profile                  |\n",
    "| `employee` → `employee_financial`     | **1:1** | Each employee has a unique set of financial data                            |\n",
    "| `employee` → `employee_satisfaction`  | **1:1** | Each employee has a single satisfaction and performance evaluation          |\n"
   ]
  },
  {
   "cell_type": "markdown",
   "id": "48939eba",
   "metadata": {},
   "source": [
    "## Tables and Columns Structure\n",
    "\n"
   ]
  },
  {
   "cell_type": "markdown",
   "id": "ec9766a4",
   "metadata": {},
   "source": [
    "### employee\n",
    "- employeenumber (PK)\n",
    "- attrition\n",
    "\n",
    "### employee_demographics\n",
    "- employeenumber (FK)\n",
    "- age\n",
    "- gender\n",
    "- marital_status\n",
    "- date_birth\n",
    "- generation\n",
    "- education\n",
    "- educationfield\n",
    "- distance_from_home\n",
    "\n",
    "### employee_professional\n",
    "- employeenumber (FK)\n",
    "- job_role\n",
    "- department\n",
    "- years_at_company\n",
    "- num_companies_worked\n",
    "- over_time\n",
    "- training_times_last_year\n",
    "- years_in_current_role\n",
    "- job_level\n",
    "- business_travel\n",
    "- standard_hours\n",
    "- remotework\n",
    "\n",
    "### employee_financial\n",
    "- employeenumber (FK)\n",
    "- monthly_income\n",
    "- monthly_rate\n",
    "- salary\n",
    "- stock_option_level\n",
    "- daily_rate\n",
    "- percent_salary_hike\n",
    "\n",
    "### employee_satisfaction\n",
    "- employeenumber (FK)\n",
    "- job_satisfaction\n",
    "- performance_rating\n",
    "- relationship_satisfaction\n",
    "- work_life_balance\n",
    "- environment_satisfaction\n",
    "- job_involvement\n"
   ]
  },
  {
   "cell_type": "code",
   "execution_count": 18,
   "id": "a38dc6d2",
   "metadata": {},
   "outputs": [],
   "source": [
    "import mysql.connector\n",
    "from mysql.connector import errorcode\n",
    "import pandas as pd"
   ]
  },
  {
   "cell_type": "markdown",
   "id": "34528fe9",
   "metadata": {},
   "source": [
    "### Create a Database in MySQL Workbench Using MySQL Connector\n"
   ]
  },
  {
   "cell_type": "code",
   "execution_count": 19,
   "id": "7bc38001",
   "metadata": {},
   "outputs": [
    {
     "name": "stdout",
     "output_type": "stream",
     "text": [
      "ok\n"
     ]
    }
   ],
   "source": [
    "try:\n",
    "  cnx = mysql.connector.connect(user='root', password='AlumnaAdalab',\n",
    "                              host='127.0.0.1',\n",
    "                              database='bluepeak_technologies')\n",
    "  print(\"ok\")\n",
    "\n",
    "except mysql.connector.Error as err:\n",
    "# If there is an error with the password, return an \"Access denied\" message, since we are having issues with the password.\n",
    "  if err.errno == errorcode.ER_ACCESS_DENIED_ERROR:\n",
    "    print(\"Something is wrong with your user name or password\")\n",
    "# If the error is not related to the password, it may be because the database does not exist return a message saying that the database does not exist.\n",
    "  elif err.errno == errorcode.ER_BAD_DB_ERROR:\n",
    "    print(\"Database does not exist\")\n",
    "  else:\n",
    "    print(err)"
   ]
  },
  {
   "cell_type": "code",
   "execution_count": 20,
   "id": "190812c2",
   "metadata": {},
   "outputs": [],
   "source": [
    "cursor = cnx.cursor()"
   ]
  },
  {
   "cell_type": "code",
   "execution_count": 21,
   "id": "a074bae0",
   "metadata": {},
   "outputs": [
    {
     "data": {
      "text/html": [
       "<div>\n",
       "<style scoped>\n",
       "    .dataframe tbody tr th:only-of-type {\n",
       "        vertical-align: middle;\n",
       "    }\n",
       "\n",
       "    .dataframe tbody tr th {\n",
       "        vertical-align: top;\n",
       "    }\n",
       "\n",
       "    .dataframe thead th {\n",
       "        text-align: right;\n",
       "    }\n",
       "</style>\n",
       "<table border=\"1\" class=\"dataframe\">\n",
       "  <thead>\n",
       "    <tr style=\"text-align: right;\">\n",
       "      <th></th>\n",
       "      <th>Unnamed: 0</th>\n",
       "      <th>age</th>\n",
       "      <th>attrition</th>\n",
       "      <th>businesstravel</th>\n",
       "      <th>dailyrate</th>\n",
       "      <th>department</th>\n",
       "      <th>distancefromhome</th>\n",
       "      <th>education</th>\n",
       "      <th>educationfield</th>\n",
       "      <th>employeenumber</th>\n",
       "      <th>...</th>\n",
       "      <th>trainingtimeslastyear</th>\n",
       "      <th>worklifebalance</th>\n",
       "      <th>yearsatcompany</th>\n",
       "      <th>yearsincurrentrole</th>\n",
       "      <th>yearssincelastpromotion</th>\n",
       "      <th>yearswithcurrmanager</th>\n",
       "      <th>datebirth</th>\n",
       "      <th>salary</th>\n",
       "      <th>remotework</th>\n",
       "      <th>generation</th>\n",
       "    </tr>\n",
       "  </thead>\n",
       "  <tbody>\n",
       "    <tr>\n",
       "      <th>0</th>\n",
       "      <td>0</td>\n",
       "      <td>53</td>\n",
       "      <td>No</td>\n",
       "      <td>NaN</td>\n",
       "      <td>2015.722222</td>\n",
       "      <td>research &amp; development</td>\n",
       "      <td>6</td>\n",
       "      <td>3</td>\n",
       "      <td>NaN</td>\n",
       "      <td>1</td>\n",
       "      <td>...</td>\n",
       "      <td>5</td>\n",
       "      <td>3.0</td>\n",
       "      <td>20</td>\n",
       "      <td>15.0</td>\n",
       "      <td>15</td>\n",
       "      <td>15</td>\n",
       "      <td>1972</td>\n",
       "      <td>195370.0</td>\n",
       "      <td>True</td>\n",
       "      <td>Gen X</td>\n",
       "    </tr>\n",
       "  </tbody>\n",
       "</table>\n",
       "<p>1 rows × 36 columns</p>\n",
       "</div>"
      ],
      "text/plain": [
       "   Unnamed: 0  age attrition businesstravel    dailyrate  \\\n",
       "0           0   53        No            NaN  2015.722222   \n",
       "\n",
       "               department  distancefromhome  education educationfield  \\\n",
       "0  research & development                 6          3            NaN   \n",
       "\n",
       "   employeenumber  ...  trainingtimeslastyear worklifebalance  yearsatcompany  \\\n",
       "0               1  ...                      5             3.0              20   \n",
       "\n",
       "   yearsincurrentrole yearssincelastpromotion  yearswithcurrmanager datebirth  \\\n",
       "0                15.0                      15                    15      1972   \n",
       "\n",
       "     salary  remotework  generation  \n",
       "0  195370.0        True       Gen X  \n",
       "\n",
       "[1 rows x 36 columns]"
      ]
     },
     "execution_count": 21,
     "metadata": {},
     "output_type": "execute_result"
    }
   ],
   "source": [
    "import pandas as pd\n",
    "\n",
    "df = pd.read_csv('/Users/ananobre/Adalab_Bootcamp/Projetos Pessoais para Git/Talent-Optimization-for-Corporation-HR-Data-Analytics-1/Data-Analytics-and-Vizualization/hr_data_cleaned.csv')\n",
    "df.head(1)\n"
   ]
  },
  {
   "cell_type": "markdown",
   "id": "43ba8bac",
   "metadata": {},
   "source": [
    "### employee\n",
    "- employeenumber (PK)\n",
    "- attrition"
   ]
  },
  {
   "cell_type": "code",
   "execution_count": 22,
   "id": "7fbe92a5",
   "metadata": {},
   "outputs": [],
   "source": [
    "cursor.execute(\"\"\"\n",
    "CREATE TABLE IF NOT EXISTS employee (\n",
    "    employeenumber INT PRIMARY KEY,\n",
    "    attrition VARCHAR(10)\n",
    ");\n",
    "\"\"\")\n"
   ]
  },
  {
   "cell_type": "code",
   "execution_count": 23,
   "id": "8bdd190d",
   "metadata": {},
   "outputs": [],
   "source": [
    "employee_data = df[['employeenumber', 'attrition']].values.tolist()\n",
    "cursor.executemany(\"\"\"\n",
    "    INSERT INTO employee (employeenumber, attrition)\n",
    "    VALUES (%s, %s)\n",
    "\"\"\", employee_data)\n",
    "\n",
    "# The `.tolist()` method is used to convert a pandas object \n",
    "# (such as a Series or a DataFrame) into a Python list.\n",
    "\n",
    "# When applied to a Series, it returns a simple list:\n",
    "#     [value1, value2, value3, ...]\n",
    "\n",
    "# When applied to a DataFrame (as in our case),\n",
    "#     it returns a list of lists:\n",
    "#     [[row1_col1, row1_col2, ...], [row2_col1, row2_col2, ...], ...]\n",
    "\n",
    "# This is especially useful when using `cursor.executemany()` in MySQL,\n",
    "# which requires a list of tuples or lists as input to insert multiple records.\n",
    "\n"
   ]
  },
  {
   "cell_type": "markdown",
   "id": "eecb5e1c",
   "metadata": {},
   "source": [
    "\n",
    "\n",
    "### employee_demographics\n",
    "- employeenumber (FK)\n",
    "- age\n",
    "- gender\n",
    "- marital_status\n",
    "- date_birth\n",
    "- generation\n",
    "- education\n",
    "- educationfield\n",
    "- distance_from_home\n"
   ]
  },
  {
   "cell_type": "code",
   "execution_count": 24,
   "id": "9769f1c5",
   "metadata": {},
   "outputs": [],
   "source": [
    "cursor.execute(\"\"\"\n",
    "CREATE TABLE IF NOT EXISTS employee_demographics (\n",
    "    employeenumber INT PRIMARY KEY,\n",
    "    age INT,\n",
    "    gender VARCHAR(20),\n",
    "    marital_status VARCHAR(20),\n",
    "    date_birth INT,\n",
    "    generation VARCHAR(20),\n",
    "    education INT,\n",
    "    educationfield VARCHAR(100),\n",
    "    distance_from_home INT,\n",
    "    FOREIGN KEY (employeenumber) REFERENCES employee(employeenumber)\n",
    ");\n",
    "\"\"\")\n"
   ]
  },
  {
   "cell_type": "code",
   "execution_count": 25,
   "id": "33947ce6",
   "metadata": {},
   "outputs": [
    {
     "name": "stdout",
     "output_type": "stream",
     "text": [
      " Dados inseridos con exito en la tabla employee_demographics.\n"
     ]
    }
   ],
   "source": [
    "demo_data = df[['employeenumber', 'age', 'gender', 'maritalstatus', 'datebirth','generation', 'education', 'educationfield', \n",
    "                'distancefromhome']].rename(columns={'maritalstatus': 'marital_status'}).where(pd.notnull(df), None).values.tolist()\n",
    "\n",
    "cursor.executemany(\"\"\"\n",
    "    INSERT INTO employee_demographics (\n",
    "        employeenumber, age, gender, marital_status, date_birth,\n",
    "        generation, education, educationfield, distance_from_home\n",
    "    )\n",
    "    VALUES (%s, %s, %s, %s, %s, %s, %s, %s, %s)\n",
    "\"\"\", demo_data)\n",
    "\n",
    "cnx.commit()\n",
    "print(\" Dados inseridos con exito en la tabla employee_demographics.\")\n",
    "\n",
    "# .where(pd.notnull(df) is used to replace all missing values (NaN)\n",
    "# in a DataFrame with Python's null value (`None`).\n",
    "\n",
    "# Why is this necessary?\n",
    "# - MySQL does not recognize `NaN` (Not a Number) as a null value.\n",
    "# - When inserting data from pandas using `executemany()`, \n",
    "#   null values must be represented as `None`, which is accepted by MySQL.\n"
   ]
  },
  {
   "cell_type": "markdown",
   "id": "9f2157c2",
   "metadata": {},
   "source": [
    "\n",
    "### employee_professional\n",
    "- employeenumber (FK)\n",
    "- job_role\n",
    "- department\n",
    "- years_at_company\n",
    "- num_companies_worked\n",
    "- over_time\n",
    "- training_times_last_year\n",
    "- years_in_current_role\n",
    "- job_level\n",
    "- business_travel\n",
    "- standard_hours\n",
    "- remotework\n"
   ]
  },
  {
   "cell_type": "code",
   "execution_count": 26,
   "id": "a3e81c0d",
   "metadata": {},
   "outputs": [],
   "source": [
    "cursor.execute(\"\"\"\n",
    "CREATE TABLE IF NOT EXISTS employee_professional (\n",
    "    employeenumber INT PRIMARY KEY,\n",
    "    job_role VARCHAR(100),\n",
    "    department VARCHAR(100),\n",
    "    years_at_company INT,\n",
    "    num_companies_worked INT,\n",
    "    over_time VARCHAR(10),\n",
    "    training_times_last_year INT,\n",
    "    years_in_current_role FLOAT,\n",
    "    job_level INT,\n",
    "    business_travel VARCHAR(50),\n",
    "    standard_hours VARCHAR(10),\n",
    "    remotework BOOLEAN,\n",
    "    FOREIGN KEY (employeenumber) REFERENCES employee(employeenumber)\n",
    ");\n",
    "\"\"\")\n"
   ]
  },
  {
   "cell_type": "code",
   "execution_count": 27,
   "id": "2e569f74",
   "metadata": {},
   "outputs": [
    {
     "name": "stdout",
     "output_type": "stream",
     "text": [
      "Dados inseridos com sucesso na tabela employee_professional.\n"
     ]
    }
   ],
   "source": [
    "prof_df = df[['employeenumber', 'jobrole', 'department', 'yearsatcompany',\n",
    "              'numcompaniesworked', 'overtime', 'trainingtimeslastyear',\n",
    "              'yearsincurrentrole', 'joblevel', 'businesstravel',\n",
    "              'standardhours', 'remotework']].rename(columns={\n",
    "    'yearsatcompany': 'years_at_company',\n",
    "    'numcompaniesworked': 'num_companies_worked',\n",
    "    'overtime': 'over_time',\n",
    "    'trainingtimeslastyear': 'training_times_last_year',\n",
    "    'yearsincurrentrole': 'years_in_current_role',\n",
    "    'joblevel': 'job_level',\n",
    "    'businesstravel': 'business_travel',\n",
    "    'standardhours': 'standard_hours'\n",
    "})\n",
    "\n",
    "# Replace NaN with None in the reduced DataFrame\n",
    "prof_df = prof_df.where(pd.notnull(prof_df), None)\n",
    "# Convert to list\n",
    "prof_data = prof_df.values.tolist()\n",
    "# Insert into the database\n",
    "cursor.executemany(\"\"\"\n",
    "    INSERT INTO employee_professional (\n",
    "        employeenumber, job_role, department, years_at_company,\n",
    "        num_companies_worked, over_time, training_times_last_year,\n",
    "        years_in_current_role, job_level, business_travel,\n",
    "        standard_hours, remotework\n",
    "    )\n",
    "    VALUES (%s, %s, %s, %s, %s, %s, %s, %s, %s, %s, %s, %s)\n",
    "\"\"\", prof_data)\n",
    "\n",
    "\n",
    "print(\"Dados inseridos com sucesso na tabela employee_professional.\")\n"
   ]
  },
  {
   "cell_type": "markdown",
   "id": "9db05c63",
   "metadata": {},
   "source": [
    "\n",
    "### employee_financial\n",
    "- employeenumber (FK)\n",
    "- monthly_income\n",
    "- monthly_rate\n",
    "- salary\n",
    "- stock_option_level\n",
    "- daily_rate\n",
    "- percent_salary_hike\n"
   ]
  },
  {
   "cell_type": "code",
   "execution_count": 28,
   "id": "bc851f31",
   "metadata": {},
   "outputs": [],
   "source": [
    "cursor.execute(\"\"\"\n",
    "CREATE TABLE IF NOT EXISTS employee_financial (\n",
    "    employeenumber INT PRIMARY KEY,\n",
    "    monthly_income FLOAT,\n",
    "    monthly_rate FLOAT,\n",
    "    salary FLOAT,\n",
    "    stock_option_level INT,\n",
    "    daily_rate FLOAT,\n",
    "    percent_salary_hike INT,\n",
    "    FOREIGN KEY (employeenumber) REFERENCES employee(employeenumber)\n",
    ");\n",
    "\"\"\")\n"
   ]
  },
  {
   "cell_type": "code",
   "execution_count": 29,
   "id": "e4a5ad08",
   "metadata": {},
   "outputs": [],
   "source": [
    "fin_data = df[['employeenumber', 'monthlyincome_$', 'monthlyrate_$', 'salary',\n",
    "               'stockoptionlevel', 'dailyrate', 'percentsalaryhike']] \\\n",
    "               .rename(columns={\n",
    "                   'monthlyincome_$': 'monthly_income',\n",
    "                   'monthlyrate_$': 'monthly_rate',\n",
    "                   'stockoptionlevel': 'stock_option_level',\n",
    "                   'dailyrate': 'daily_rate',\n",
    "                   'percentsalaryhike': 'percent_salary_hike'\n",
    "               }).values.tolist()\n",
    "\n",
    "cursor.executemany(\"\"\"\n",
    "    INSERT INTO employee_financial (\n",
    "        employeenumber, monthly_income, monthly_rate, salary,\n",
    "        stock_option_level, daily_rate, percent_salary_hike\n",
    "    )\n",
    "    VALUES (%s, %s, %s, %s, %s, %s, %s)\n",
    "\"\"\", fin_data)\n"
   ]
  },
  {
   "cell_type": "markdown",
   "id": "d421f31c",
   "metadata": {},
   "source": [
    "\n",
    "### employee_satisfaction\n",
    "- employeenumber (FK)\n",
    "- job_satisfaction\n",
    "- performance_rating\n",
    "- relationship_satisfaction\n",
    "- work_life_balance\n",
    "- environment_satisfaction\n",
    "- job_involvement\n"
   ]
  },
  {
   "cell_type": "code",
   "execution_count": 30,
   "id": "4f4e9609",
   "metadata": {},
   "outputs": [],
   "source": [
    "cursor.execute(\"\"\"\n",
    "CREATE TABLE IF NOT EXISTS employee_satisfaction (\n",
    "    employeenumber INT PRIMARY KEY,\n",
    "    job_satisfaction INT,\n",
    "    performance_rating FLOAT,\n",
    "    relationship_satisfaction INT,\n",
    "    work_life_balance VARCHAR(50),\n",
    "    environment_satisfaction INT,\n",
    "    job_involvement INT,\n",
    "    FOREIGN KEY (employeenumber) REFERENCES employee(employeenumber)\n",
    ");\n",
    "\"\"\")\n"
   ]
  },
  {
   "cell_type": "code",
   "execution_count": 31,
   "id": "344ddb02",
   "metadata": {},
   "outputs": [],
   "source": [
    "sat_data = df[['employeenumber', 'jobsatisfaction', 'performancerating',\n",
    "               'relationshipsatisfaction', 'worklifebalance',\n",
    "               'environmentsatisfaction', 'jobinvolvement']] \\\n",
    "               .rename(columns={\n",
    "                   'jobsatisfaction': 'job_satisfaction',\n",
    "                   'performancerating': 'performance_rating',\n",
    "                   'relationshipsatisfaction': 'relationship_satisfaction',\n",
    "                   'worklifebalance': 'work_life_balance',\n",
    "                   'environmentsatisfaction': 'environment_satisfaction',\n",
    "                   'jobinvolvement': 'job_involvement'\n",
    "               }).values.tolist()\n",
    "\n",
    "cursor.executemany(\"\"\"\n",
    "    INSERT INTO employee_satisfaction (\n",
    "        employeenumber, job_satisfaction, performance_rating,\n",
    "        relationship_satisfaction, work_life_balance,\n",
    "        environment_satisfaction, job_involvement\n",
    "    )\n",
    "    VALUES (%s, %s, %s, %s, %s, %s, %s)\n",
    "\"\"\", sat_data)\n"
   ]
  },
  {
   "cell_type": "code",
   "execution_count": 32,
   "id": "a63df7c3",
   "metadata": {},
   "outputs": [
    {
     "name": "stdout",
     "output_type": "stream",
     "text": [
      "Dados inseridos com sucesso em todas as tabelas.\n"
     ]
    }
   ],
   "source": [
    "cnx.commit()\n",
    "print(\"Dados inseridos com sucesso em todas as tabelas.\")\n"
   ]
  },
  {
   "cell_type": "code",
   "execution_count": 33,
   "id": "e926acbc",
   "metadata": {},
   "outputs": [],
   "source": [
    "config = {\n",
    "  'user': 'root',\n",
    "  'password': 'AlumnaAdalab',\n",
    "  'host': '127.0.0.1',\n",
    "  'database': 'tienda',\n",
    "  'raise_on_warnings': True\n",
    "}\n",
    "\n",
    "cnx = mysql.connector.connect(**config)\n",
    "\n",
    "cnx.close()"
   ]
  }
 ],
 "metadata": {
  "kernelspec": {
   "display_name": "Python 3",
   "language": "python",
   "name": "python3"
  },
  "language_info": {
   "codemirror_mode": {
    "name": "ipython",
    "version": 3
   },
   "file_extension": ".py",
   "mimetype": "text/x-python",
   "name": "python",
   "nbconvert_exporter": "python",
   "pygments_lexer": "ipython3",
   "version": "3.13.3"
  }
 },
 "nbformat": 4,
 "nbformat_minor": 5
}
