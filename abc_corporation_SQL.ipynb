{
 "cells": [
  {
   "cell_type": "markdown",
   "id": "bce9f78a",
   "metadata": {},
   "source": [
    "## Database Structure Design\n",
    "\n"
   ]
  },
  {
   "cell_type": "markdown",
   "id": "4e082ccb",
   "metadata": {},
   "source": [
    "| Relationship                          | Type  | Explanation                                                                 |\n",
    "| ------------------------------------- | ----- | --------------------------------------------------------------------------- |\n",
    "| `employee` → `employee_demographics`  | **1:1** | Each employee has a single row with their demographic information           |\n",
    "| `employee` → `employee_professional`  | **1:1** | Each employee has a single registered professional profile                  |\n",
    "| `employee` → `employee_financial`     | **1:1** | Each employee has a unique set of financial data                            |\n",
    "| `employee` → `employee_satisfaction`  | **1:1** | Each employee has a single satisfaction and performance evaluation          |\n"
   ]
  },
  {
   "cell_type": "markdown",
   "id": "48939eba",
   "metadata": {},
   "source": [
    "## Tables and Columns Structure\n",
    "\n"
   ]
  },
  {
   "cell_type": "markdown",
   "id": "ec9766a4",
   "metadata": {},
   "source": [
    "### employee\n",
    "- employeenumber (PK)\n",
    "- attrition\n",
    "\n",
    "### employee_demographics\n",
    "- employeenumber (FK)\n",
    "- age\n",
    "- gender\n",
    "- marital_status\n",
    "- date_birth\n",
    "- generation\n",
    "- education\n",
    "- educationfield\n",
    "- distance_from_home\n",
    "\n",
    "### employee_professional\n",
    "- employeenumber (FK)\n",
    "- job_role\n",
    "- department\n",
    "- years_at_company\n",
    "- num_companies_worked\n",
    "- over_time\n",
    "- training_times_last_year\n",
    "- years_in_current_role\n",
    "- job_level\n",
    "- business_travel\n",
    "- standard_hours\n",
    "- remotework\n",
    "\n",
    "### employee_financial\n",
    "- employeenumber (FK)\n",
    "- monthly_income\n",
    "- monthly_rate\n",
    "- salary\n",
    "- stock_option_level\n",
    "- daily_rate\n",
    "- percent_salary_hike\n",
    "\n",
    "### employee_satisfaction\n",
    "- employeenumber (FK)\n",
    "- job_satisfaction\n",
    "- performance_rating\n",
    "- relationship_satisfaction\n",
    "- work_life_balance\n",
    "- environment_satisfaction\n",
    "- job_involvement\n"
   ]
  },
  {
   "cell_type": "code",
   "execution_count": null,
   "id": "a38dc6d2",
   "metadata": {},
   "outputs": [],
   "source": [
    "import mysql.connector\n",
    "from mysql.connector import errorcode\n",
    "\n",
    "import pandas as pd"
   ]
  },
  {
   "cell_type": "markdown",
   "id": "34528fe9",
   "metadata": {},
   "source": [
    "CREAR DATABASE EN MYSQL"
   ]
  },
  {
   "cell_type": "code",
   "execution_count": null,
   "id": "7bc38001",
   "metadata": {},
   "outputs": [],
   "source": [
    "try:\n",
    "  cnx = mysql.connector.connect(user='root', password='AlumnaAdalab',\n",
    "                              host='127.0.0.1',\n",
    "                              database='abc_corporation')\n",
    "  print(\"ok\")\n",
    "# en caso de que no lo consigas por que hay algún error entonces\n",
    "except mysql.connector.Error as err:\n",
    "\n",
    "  # si es un error con la contraseña devuelveme un mensaje de acceso denegado ya que tenemos problemas con la contraseña\n",
    "  if err.errno == errorcode.ER_ACCESS_DENIED_ERROR:\n",
    "    print(\"Something is wrong with your user name or password\")\n",
    "  \n",
    "  # si el error no tiene que ver con la contraseña, puede ser porque la base de datos no exista, devuelveme un mensaje de que la base de datos no existe\n",
    "  elif err.errno == errorcode.ER_BAD_DB_ERROR:\n",
    "    print(\"Database does not exist\")\n",
    "  \n",
    "  # si no es por ninguno de los errores anteriores, printeame cual es el error que estoy teniendo en mi conexión\n",
    "  else:\n",
    "    print(err)\n"
   ]
  },
  {
   "cell_type": "markdown",
   "id": "dcd49893",
   "metadata": {},
   "source": [
    "## Creación de la Base de Datos"
   ]
  },
  {
   "cell_type": "code",
   "execution_count": null,
   "id": "a074bae0",
   "metadata": {},
   "outputs": [],
   "source": [
    "import pandas as pd\n",
    "\n",
    "# Leitura do arquivo CSV\n",
    "df = pd.read_csv('hr_data_cleaned.csv')\n",
    "\n",
    "# Verifique as colunas e dados\n",
    "df.head(1)\n"
   ]
  },
  {
   "cell_type": "code",
   "execution_count": null,
   "id": "2788b4ea",
   "metadata": {},
   "outputs": [],
   "source": [
    "# En SQL ejecutamos CREATE SCHEMA abc_corporation\n",
    "cursor = cnx.cursor()\n",
    "cursor.execute(\"USE abc_corporation;\")"
   ]
  },
  {
   "cell_type": "markdown",
   "id": "43ba8bac",
   "metadata": {},
   "source": [
    "### employee\n",
    "- employeenumber (PK)\n",
    "- attrition"
   ]
  },
  {
   "cell_type": "code",
   "execution_count": null,
   "id": "7fbe92a5",
   "metadata": {},
   "outputs": [],
   "source": [
    "# employee: Tabela principal\n",
    "cursor.execute(\"\"\"\n",
    "CREATE TABLE IF NOT EXISTS employee (\n",
    "    employeenumber INT PRIMARY KEY,\n",
    "    attrition VARCHAR(10)\n",
    ");\n",
    "\"\"\")\n"
   ]
  },
  {
   "cell_type": "code",
   "execution_count": null,
   "id": "8bdd190d",
   "metadata": {},
   "outputs": [],
   "source": [
    "employee_data = df[['employeenumber', 'attrition']].values.tolist()\n",
    "cursor.executemany(\"\"\"\n",
    "    INSERT INTO employee (employeenumber, attrition)\n",
    "    VALUES (%s, %s)\n",
    "\"\"\", employee_data)\n",
    "\n",
    "\n",
    "\n",
    "# 📌 ¿Para qué sirve .tolist() en pandas?\n",
    "#\n",
    "# El método .tolist() se utiliza para convertir un objeto de pandas \n",
    "# (como una Serie o un DataFrame) en una lista de Python.\n",
    "#\n",
    "# Si se aplica a una Serie, devuelve una lista simple:\n",
    "#     [valor1, valor2, valor3, ...]\n",
    "#\n",
    "# Si se aplica a un DataFrame (como en nuestro caso),\n",
    "#     devuelve una lista de listas:\n",
    "#     [[fila1_col1, fila1_col2, ...], [fila2_col1, fila2_col2, ...], ...]\n",
    "#\n",
    "# Esto es especialmente útil cuando usamos cursor.executemany() en MySQL,\n",
    "# que requiere recibir una lista de tuplas o listas como entrada para insertar múltiples registros.\n",
    "\n"
   ]
  },
  {
   "cell_type": "markdown",
   "id": "eecb5e1c",
   "metadata": {},
   "source": [
    "\n",
    "\n",
    "### employee_demographics\n",
    "- employeenumber (FK)\n",
    "- age\n",
    "- gender\n",
    "- marital_status\n",
    "- date_birth\n",
    "- generation\n",
    "- education\n",
    "- educationfield\n",
    "- distance_from_home\n"
   ]
  },
  {
   "cell_type": "code",
   "execution_count": null,
   "id": "9769f1c5",
   "metadata": {},
   "outputs": [],
   "source": [
    "# employee_demographics: Dados demográficos\n",
    "cursor.execute(\"\"\"\n",
    "CREATE TABLE IF NOT EXISTS employee_demographics (\n",
    "    employeenumber INT PRIMARY KEY,\n",
    "    age INT,\n",
    "    gender VARCHAR(20),\n",
    "    marital_status VARCHAR(20),\n",
    "    date_birth INT,\n",
    "    generation VARCHAR(20),\n",
    "    education INT,\n",
    "    educationfield VARCHAR(100),\n",
    "    distance_from_home INT,\n",
    "    FOREIGN KEY (employeenumber) REFERENCES employee(employeenumber)\n",
    ");\n",
    "\"\"\")\n"
   ]
  },
  {
   "cell_type": "code",
   "execution_count": null,
   "id": "33947ce6",
   "metadata": {},
   "outputs": [],
   "source": [
    "demo_data = df[['employeenumber', 'age', 'gender', 'maritalstatus', 'datebirth','generation', 'education', 'educationfield', \n",
    "                'distancefromhome']].rename(columns={'maritalstatus': 'marital_status'}).where(pd.notnull(df), None).values.tolist()\n",
    "# El método .where(pd.notnull(df), None) se utiliza en pandas para reemplazar valores NaN por None, el cual es el valor nulo reconocido por MySQL al insertar datos desde un DataFrame.\n",
    "\n",
    "cursor.executemany(\"\"\"\n",
    "    INSERT INTO employee_demographics (\n",
    "        employeenumber, age, gender, marital_status, date_birth,\n",
    "        generation, education, educationfield, distance_from_home\n",
    "    )\n",
    "    VALUES (%s, %s, %s, %s, %s, %s, %s, %s, %s)\n",
    "\"\"\", demo_data)\n",
    "\n",
    "cnx.commit()\n",
    "print(\" Dados inseridos con exito en la tabla employee_demographics.\")\n",
    "\n",
    "\n",
    "# ¿Para qué sirve .where(pd.notnull(df), None) en pandas?\n",
    "#\n",
    "# Este método se utiliza para reemplazar todos los valores faltantes (NaN)\n",
    "# en un DataFrame por el valor nulo de Python (`None`).\n",
    "#\n",
    "# ¿Por qué es necesario?\n",
    "# - MySQL no entiende `NaN` (Not a Number) como valor nulo.\n",
    "# - Al insertar datos desde pandas usando `executemany()`, es necesario que\n",
    "#   los valores nulos estén representados como `None`, que sí es aceptado por MySQL.\n",
    "#\n",
    "# Ejemplo práctico:\n",
    "# df = df.where(pd.notnull(df), None)\n",
    "# Esto deja los valores válidos igual, y cambia solo los NaN a None.\n"
   ]
  },
  {
   "cell_type": "markdown",
   "id": "9f2157c2",
   "metadata": {},
   "source": [
    "\n",
    "### employee_professional\n",
    "- employeenumber (FK)\n",
    "- job_role\n",
    "- department\n",
    "- years_at_company\n",
    "- num_companies_worked\n",
    "- over_time\n",
    "- training_times_last_year\n",
    "- years_in_current_role\n",
    "- job_level\n",
    "- business_travel\n",
    "- standard_hours\n",
    "- remotework\n"
   ]
  },
  {
   "cell_type": "code",
   "execution_count": null,
   "id": "a3e81c0d",
   "metadata": {},
   "outputs": [],
   "source": [
    "#  employee_professional: Informações profissionais\n",
    "cursor.execute(\"\"\"\n",
    "CREATE TABLE IF NOT EXISTS employee_professional (\n",
    "    employeenumber INT PRIMARY KEY,\n",
    "    job_role VARCHAR(100),\n",
    "    department VARCHAR(100),\n",
    "    years_at_company INT,\n",
    "    num_companies_worked INT,\n",
    "    over_time VARCHAR(10),\n",
    "    training_times_last_year INT,\n",
    "    years_in_current_role FLOAT,\n",
    "    job_level INT,\n",
    "    business_travel VARCHAR(50),\n",
    "    standard_hours VARCHAR(10),\n",
    "    remotework BOOLEAN,\n",
    "    FOREIGN KEY (employeenumber) REFERENCES employee(employeenumber)\n",
    ");\n",
    "\"\"\")\n"
   ]
  },
  {
   "cell_type": "code",
   "execution_count": null,
   "id": "2e569f74",
   "metadata": {},
   "outputs": [],
   "source": [
    "# 1. Selecionar e renomear as colunas primeiro\n",
    "prof_df = df[['employeenumber', 'jobrole', 'department', 'yearsatcompany',\n",
    "              'numcompaniesworked', 'overtime', 'trainingtimeslastyear',\n",
    "              'yearsincurrentrole', 'joblevel', 'businesstravel',\n",
    "              'standardhours', 'remotework']].rename(columns={\n",
    "    'yearsatcompany': 'years_at_company',\n",
    "    'numcompaniesworked': 'num_companies_worked',\n",
    "    'overtime': 'over_time',\n",
    "    'trainingtimeslastyear': 'training_times_last_year',\n",
    "    'yearsincurrentrole': 'years_in_current_role',\n",
    "    'joblevel': 'job_level',\n",
    "    'businesstravel': 'business_travel',\n",
    "    'standardhours': 'standard_hours'\n",
    "})\n",
    "\n",
    "# 2. Substituir NaN por None no DataFrame reduzido\n",
    "prof_df = prof_df.where(pd.notnull(prof_df), None)\n",
    "\n",
    "# 3. Converter em lista\n",
    "prof_data = prof_df.values.tolist()\n",
    "\n",
    "# 4. Inserir no banco\n",
    "cursor.executemany(\"\"\"\n",
    "    INSERT INTO employee_professional (\n",
    "        employeenumber, job_role, department, years_at_company,\n",
    "        num_companies_worked, over_time, training_times_last_year,\n",
    "        years_in_current_role, job_level, business_travel,\n",
    "        standard_hours, remotework\n",
    "    )\n",
    "    VALUES (%s, %s, %s, %s, %s, %s, %s, %s, %s, %s, %s, %s)\n",
    "\"\"\", prof_data)\n",
    "\n",
    "\n",
    "print(\"Dados inseridos com sucesso na tabela employee_professional.\")\n"
   ]
  },
  {
   "cell_type": "markdown",
   "id": "9db05c63",
   "metadata": {},
   "source": [
    "\n",
    "### employee_financial\n",
    "- employeenumber (FK)\n",
    "- monthly_income\n",
    "- monthly_rate\n",
    "- salary\n",
    "- stock_option_level\n",
    "- daily_rate\n",
    "- percent_salary_hike\n"
   ]
  },
  {
   "cell_type": "code",
   "execution_count": null,
   "id": "bc851f31",
   "metadata": {},
   "outputs": [],
   "source": [
    "# employee_financial: Dados financeiros\n",
    "cursor.execute(\"\"\"\n",
    "CREATE TABLE IF NOT EXISTS employee_financial (\n",
    "    employeenumber INT PRIMARY KEY,\n",
    "    monthly_income FLOAT,\n",
    "    monthly_rate FLOAT,\n",
    "    salary FLOAT,\n",
    "    stock_option_level INT,\n",
    "    daily_rate FLOAT,\n",
    "    percent_salary_hike INT,\n",
    "    FOREIGN KEY (employeenumber) REFERENCES employee(employeenumber)\n",
    ");\n",
    "\"\"\")\n"
   ]
  },
  {
   "cell_type": "code",
   "execution_count": null,
   "id": "e4a5ad08",
   "metadata": {},
   "outputs": [],
   "source": [
    "fin_data = df[['employeenumber', 'monthlyincome_$', 'monthlyrate_$', 'salary',\n",
    "               'stockoptionlevel', 'dailyrate', 'percentsalaryhike']] \\\n",
    "               .rename(columns={\n",
    "                   'monthlyincome_$': 'monthly_income',\n",
    "                   'monthlyrate_$': 'monthly_rate',\n",
    "                   'stockoptionlevel': 'stock_option_level',\n",
    "                   'dailyrate': 'daily_rate',\n",
    "                   'percentsalaryhike': 'percent_salary_hike'\n",
    "               }).values.tolist()\n",
    "\n",
    "cursor.executemany(\"\"\"\n",
    "    INSERT INTO employee_financial (\n",
    "        employeenumber, monthly_income, monthly_rate, salary,\n",
    "        stock_option_level, daily_rate, percent_salary_hike\n",
    "    )\n",
    "    VALUES (%s, %s, %s, %s, %s, %s, %s)\n",
    "\"\"\", fin_data)\n"
   ]
  },
  {
   "cell_type": "markdown",
   "id": "d421f31c",
   "metadata": {},
   "source": [
    "\n",
    "### employee_satisfaction\n",
    "- employeenumber (FK)\n",
    "- job_satisfaction\n",
    "- performance_rating\n",
    "- relationship_satisfaction\n",
    "- work_life_balance\n",
    "- environment_satisfaction\n",
    "- job_involvement\n"
   ]
  },
  {
   "cell_type": "code",
   "execution_count": null,
   "id": "4f4e9609",
   "metadata": {},
   "outputs": [],
   "source": [
    "# employee_satisfaction: Indicadores de satisfação\n",
    "cursor.execute(\"\"\"\n",
    "CREATE TABLE IF NOT EXISTS employee_satisfaction (\n",
    "    employeenumber INT PRIMARY KEY,\n",
    "    job_satisfaction INT,\n",
    "    performance_rating FLOAT,\n",
    "    relationship_satisfaction INT,\n",
    "    work_life_balance VARCHAR(50),\n",
    "    environment_satisfaction INT,\n",
    "    job_involvement INT,\n",
    "    FOREIGN KEY (employeenumber) REFERENCES employee(employeenumber)\n",
    ");\n",
    "\"\"\")\n"
   ]
  },
  {
   "cell_type": "code",
   "execution_count": null,
   "id": "344ddb02",
   "metadata": {},
   "outputs": [],
   "source": [
    "sat_data = df[['employeenumber', 'jobsatisfaction', 'performancerating',\n",
    "               'relationshipsatisfaction', 'worklifebalance',\n",
    "               'environmentsatisfaction', 'jobinvolvement']] \\\n",
    "               .rename(columns={\n",
    "                   'jobsatisfaction': 'job_satisfaction',\n",
    "                   'performancerating': 'performance_rating',\n",
    "                   'relationshipsatisfaction': 'relationship_satisfaction',\n",
    "                   'worklifebalance': 'work_life_balance',\n",
    "                   'environmentsatisfaction': 'environment_satisfaction',\n",
    "                   'jobinvolvement': 'job_involvement'\n",
    "               }).values.tolist()\n",
    "\n",
    "cursor.executemany(\"\"\"\n",
    "    INSERT INTO employee_satisfaction (\n",
    "        employeenumber, job_satisfaction, performance_rating,\n",
    "        relationship_satisfaction, work_life_balance,\n",
    "        environment_satisfaction, job_involvement\n",
    "    )\n",
    "    VALUES (%s, %s, %s, %s, %s, %s, %s)\n",
    "\"\"\", sat_data)\n"
   ]
  },
  {
   "cell_type": "code",
   "execution_count": null,
   "id": "a63df7c3",
   "metadata": {},
   "outputs": [],
   "source": [
    "cnx.commit()\n",
    "print(\"Dados inseridos com sucesso em todas as tabelas.\")\n"
   ]
  },
  {
   "cell_type": "code",
   "execution_count": null,
   "id": "e926acbc",
   "metadata": {},
   "outputs": [],
   "source": [
    "config = {\n",
    "  'user': 'root',\n",
    "  'password': 'AlumnaAdalab',\n",
    "  'host': '127.0.0.1',\n",
    "  'database': 'tienda',\n",
    "  'raise_on_warnings': True\n",
    "}\n",
    "\n",
    "cnx = mysql.connector.connect(**config)\n",
    "\n",
    "cnx.close()"
   ]
  }
 ],
 "metadata": {
  "kernelspec": {
   "display_name": "Python 3",
   "language": "python",
   "name": "python3"
  },
  "language_info": {
   "codemirror_mode": {
    "name": "ipython",
    "version": 3
   },
   "file_extension": ".py",
   "mimetype": "text/x-python",
   "name": "python",
   "nbconvert_exporter": "python",
   "pygments_lexer": "ipython3",
   "version": "3.13.3"
  }
 },
 "nbformat": 4,
 "nbformat_minor": 5
}
